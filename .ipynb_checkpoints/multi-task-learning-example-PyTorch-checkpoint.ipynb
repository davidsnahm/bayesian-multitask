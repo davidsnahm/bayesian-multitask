{
 "cells": [
  {
   "cell_type": "code",
   "execution_count": 6,
   "metadata": {},
   "outputs": [],
   "source": [
    "num_tasks = 5"
   ]
  },
  {
   "cell_type": "code",
   "execution_count": 7,
   "metadata": {},
   "outputs": [],
   "source": [
    "import math\n",
    "import time\n",
    "import pylab\n",
    "import numpy as np\n",
    "\n",
    "import torch\n",
    "import torch.nn as nn\n",
    "from torch.utils.data import Dataset, DataLoader\n",
    "\n",
    "import random\n",
    "\n",
    "def gen_data(N):\n",
    "    X = np.random.randn(N, 1)\n",
    "    w = [random.randint(-5, 5) for i in range(num_tasks)]\n",
    "    b = [random.randint(-10, 10) for i in range(num_tasks)]\n",
    "    sigma = [random.randint(1, 10) for i in range(num_tasks)]\n",
    "    #w = [2., 3., 4., -2., 5., 6, -4, 3, 1, 4]\n",
    "    #b = [8., 3., 5., 2., 4., 2, -2, 3, -3, 5]\n",
    "    #sigma = [1e1, 1e0, 5e0, 7e0, 3e0, 2e0, 4e0, 1e0, 5e0, 3e0]\n",
    "    Y = [0] * num_tasks\n",
    "    for i in range(num_tasks):\n",
    "        Y[i] = X.dot(w[i]) + b[i] + sigma[i] * np.random.randn(N, 1)\n",
    "\n",
    "    return X, Y\n",
    "\n",
    "def gen_val_data(N):\n",
    "    X = np.random.randn(N, 1)\n",
    "    w = [random.randint(-5, 5) for i in range(num_tasks)]\n",
    "    b = [random.randint(-10, 10) for i in range(num_tasks)]\n",
    "    sigma = [random.randint(1, 10) for i in range(num_tasks)]\n",
    "    Y = [0] * num_tasks\n",
    "    for i in range(num_tasks):\n",
    "        Y[i] = X.dot(w[i]) + b[i] + sigma[i] * np.random.randn(N, 1)\n",
    "\n",
    "    return X, Y\n",
    "\n",
    "\n",
    "class Data(Dataset):\n",
    "\n",
    "    def __init__(self, feature_num, X, Y):\n",
    "\n",
    "        self.feature_num = feature_num\n",
    "\n",
    "        self.X = torch.tensor(X, dtype=torch.float32)\n",
    "        self.Y = torch.zeros(num_tasks)\n",
    "        for i in range(num_tasks):\n",
    "            #self.Y[i] = torch.from_numpy(Y[i])\n",
    "            self.Y[i] = torch.tensor(Y[i], dtype=torch.float32)\n",
    "        \n",
    "    def __len__(self):\n",
    "        return self.feature_num\n",
    "\n",
    "    def __getitem__(self, idx):\n",
    "        return self.X[idx,:], [self.Y[i][idx,:] for i in range(num_tasks)]\n",
    "\n",
    "class MultiTaskLossWrapper(nn.Module):\n",
    "    def __init__(self, task_num, model):\n",
    "        super(MultiTaskLossWrapper, self).__init__()\n",
    "        self.model = model\n",
    "        self.task_num = task_num\n",
    "        self.log_vars = nn.Parameter(torch.zeros((task_num)))\n",
    "\n",
    "    def forward(self, input, targets):\n",
    "\n",
    "        outputs = self.model(input)\n",
    "        loss = 0\n",
    "        precision = [0] * num_tasks\n",
    "        for i in range(num_tasks):\n",
    "            precision[i] = torch.exp(-self.log_vars[i])\n",
    "            loss += torch.sum(precision[i] * (targets[i] - outputs[i]) ** 2. + self.log_vars[i], -1)\n",
    "        \n",
    "        loss = torch.mean(loss)\n",
    "\n",
    "        return loss, self.log_vars.data.tolist()\n",
    "\n",
    "\n",
    "class MTLModel(torch.nn.Module):\n",
    "    def __init__(self, n_hidden, n_output):\n",
    "        super(MTLModel, self).__init__()\n",
    "        \n",
    "        self.shared_fc = nn.Sequential(nn.Linear(1, n_hidden), nn.ReLU())\n",
    "        self.nets = [0] * num_tasks\n",
    "        \n",
    "        for i in range(num_tasks):\n",
    "            self.nets[i] = nn.Sequential(nn.Linear(n_hidden, n_hidden), nn.ReLU(), nn.Linear(n_hidden, n_output))\n",
    "        \n",
    "    def forward(self, x):\n",
    "        shared_out = self.shared_fc(x)\n",
    "        return [self.nets[i](shared_out) for i in range(num_tasks)]"
   ]
  },
  {
   "cell_type": "code",
   "execution_count": 8,
   "metadata": {},
   "outputs": [
    {
     "data": {
      "image/png": "[encoded data removed]",
      "text/plain": [
       "<Figure size 216x108 with 1 Axes>"
      ]
     },
     "metadata": {
      "needs_background": "light"
     },
     "output_type": "display_data"
    }
   ],
   "source": [
    "seed = 3\n",
    "np.random.seed(seed)\n",
    "\n",
    "feature_num = 600\n",
    "val_feature_num = 200\n",
    "nb_epoch = 500\n",
    "batch_size = 20\n",
    "hidden_dim = 1024\n",
    "lr = 0.0001\n",
    "\n",
    "X, Y = gen_data(feature_num)\n",
    "X_val, Y_val = gen_val_data(val_feature_num)\n",
    "pylab.figure(figsize=(3, 1.5))\n",
    "for i in range(num_tasks):\n",
    "    pylab.scatter(X[:, 0], Y[i][:, 0])\n",
    "pylab.show()"
   ]
  },
  {
   "cell_type": "code",
   "execution_count": 9,
   "metadata": {},
   "outputs": [],
   "source": [
    "#from torch.utils.tensorboard import SummaryWriter\n",
    "from tensorboardX import SummaryWriter\n",
    "writer = SummaryWriter()\n",
    "writer.add_hparams({'feature_num': feature_num,\n",
    "                    'val_feature_num': val_feature_num,\n",
    "                    'nb_epoch': nb_epoch,\n",
    "                    'batch_size': batch_size,\n",
    "                    'hidden_dim': hidden_dim,\n",
    "                    'lr': lr, \n",
    "                    'seed': seed, \n",
    "                    'num_tasks': num_tasks}, {})"
   ]
  },
  {
   "cell_type": "code",
   "execution_count": 10,
   "metadata": {
    "collapsed": true
   },
   "outputs": [
    {
     "ename": "RuntimeError",
     "evalue": "expand(torch.FloatTensor{[600, 1]}, size=[]): the number of sizes provided (0) must be greater or equal to the number of dimensions in the tensor (2)",
     "output_type": "error",
     "traceback": [
      "\u001b[0;31m---------------------------------------------------------------------------\u001b[0m",
      "\u001b[0;31mRuntimeError\u001b[0m                              Traceback (most recent call last)",
      "\u001b[0;32m<ipython-input-10-705366709dcd>\u001b[0m in \u001b[0;36m<module>\u001b[0;34m\u001b[0m\n\u001b[1;32m      1\u001b[0m \u001b[0muse_cuda\u001b[0m \u001b[0;34m=\u001b[0m \u001b[0mtorch\u001b[0m\u001b[0;34m.\u001b[0m\u001b[0mcuda\u001b[0m\u001b[0;34m.\u001b[0m\u001b[0mis_available\u001b[0m\u001b[0;34m(\u001b[0m\u001b[0;34m)\u001b[0m\u001b[0;34m\u001b[0m\u001b[0;34m\u001b[0m\u001b[0m\n\u001b[1;32m      2\u001b[0m \u001b[0;34m\u001b[0m\u001b[0m\n\u001b[0;32m----> 3\u001b[0;31m \u001b[0mtrain_data\u001b[0m \u001b[0;34m=\u001b[0m \u001b[0mData\u001b[0m\u001b[0;34m(\u001b[0m\u001b[0mfeature_num\u001b[0m\u001b[0;34m,\u001b[0m \u001b[0mX\u001b[0m\u001b[0;34m,\u001b[0m \u001b[0mY\u001b[0m\u001b[0;34m)\u001b[0m\u001b[0;34m\u001b[0m\u001b[0;34m\u001b[0m\u001b[0m\n\u001b[0m\u001b[1;32m      4\u001b[0m \u001b[0mval_data\u001b[0m \u001b[0;34m=\u001b[0m \u001b[0mData\u001b[0m\u001b[0;34m(\u001b[0m\u001b[0mval_feature_num\u001b[0m\u001b[0;34m,\u001b[0m \u001b[0mX_val\u001b[0m\u001b[0;34m,\u001b[0m \u001b[0mY_val\u001b[0m\u001b[0;34m)\u001b[0m\u001b[0;34m\u001b[0m\u001b[0;34m\u001b[0m\u001b[0m\n\u001b[1;32m      5\u001b[0m \u001b[0mtrain_data_loader\u001b[0m \u001b[0;34m=\u001b[0m \u001b[0mDataLoader\u001b[0m\u001b[0;34m(\u001b[0m\u001b[0mtrain_data\u001b[0m\u001b[0;34m,\u001b[0m \u001b[0mshuffle\u001b[0m\u001b[0;34m=\u001b[0m\u001b[0;32mTrue\u001b[0m\u001b[0;34m,\u001b[0m \u001b[0mbatch_size\u001b[0m\u001b[0;34m=\u001b[0m\u001b[0mbatch_size\u001b[0m\u001b[0;34m,\u001b[0m \u001b[0mdrop_last\u001b[0m\u001b[0;34m=\u001b[0m\u001b[0;32mTrue\u001b[0m\u001b[0;34m)\u001b[0m\u001b[0;34m\u001b[0m\u001b[0;34m\u001b[0m\u001b[0m\n",
      "\u001b[0;32m<ipython-input-7-e0517bb8a088>\u001b[0m in \u001b[0;36m__init__\u001b[0;34m(self, feature_num, X, Y)\u001b[0m\n\u001b[1;32m     46\u001b[0m         \u001b[0;32mfor\u001b[0m \u001b[0mi\u001b[0m \u001b[0;32min\u001b[0m \u001b[0mrange\u001b[0m\u001b[0;34m(\u001b[0m\u001b[0mnum_tasks\u001b[0m\u001b[0;34m)\u001b[0m\u001b[0;34m:\u001b[0m\u001b[0;34m\u001b[0m\u001b[0;34m\u001b[0m\u001b[0m\n\u001b[1;32m     47\u001b[0m             \u001b[0;31m#self.Y[i] = torch.from_numpy(Y[i])\u001b[0m\u001b[0;34m\u001b[0m\u001b[0;34m\u001b[0m\u001b[0;34m\u001b[0m\u001b[0m\n\u001b[0;32m---> 48\u001b[0;31m             \u001b[0mself\u001b[0m\u001b[0;34m.\u001b[0m\u001b[0mY\u001b[0m\u001b[0;34m[\u001b[0m\u001b[0mi\u001b[0m\u001b[0;34m]\u001b[0m \u001b[0;34m=\u001b[0m \u001b[0mtorch\u001b[0m\u001b[0;34m.\u001b[0m\u001b[0mtensor\u001b[0m\u001b[0;34m(\u001b[0m\u001b[0mY\u001b[0m\u001b[0;34m[\u001b[0m\u001b[0mi\u001b[0m\u001b[0;34m]\u001b[0m\u001b[0;34m,\u001b[0m \u001b[0mdtype\u001b[0m\u001b[0;34m=\u001b[0m\u001b[0mtorch\u001b[0m\u001b[0;34m.\u001b[0m\u001b[0mfloat32\u001b[0m\u001b[0;34m)\u001b[0m\u001b[0;34m\u001b[0m\u001b[0;34m\u001b[0m\u001b[0m\n\u001b[0m\u001b[1;32m     49\u001b[0m \u001b[0;34m\u001b[0m\u001b[0m\n\u001b[1;32m     50\u001b[0m     \u001b[0;32mdef\u001b[0m \u001b[0m__len__\u001b[0m\u001b[0;34m(\u001b[0m\u001b[0mself\u001b[0m\u001b[0;34m)\u001b[0m\u001b[0;34m:\u001b[0m\u001b[0;34m\u001b[0m\u001b[0;34m\u001b[0m\u001b[0m\n",
      "\u001b[0;31mRuntimeError\u001b[0m: expand(torch.FloatTensor{[600, 1]}, size=[]): the number of sizes provided (0) must be greater or equal to the number of dimensions in the tensor (2)"
     ]
    }
   ],
   "source": [
    "use_cuda = torch.cuda.is_available()\n",
    "\n",
    "train_data = Data(feature_num, X, Y)\n",
    "val_data = Data(val_feature_num, X_val, Y_val)\n",
    "train_data_loader = DataLoader(train_data, shuffle=True, batch_size=batch_size, drop_last=True)\n",
    "val_data_loader = DataLoader(val_data, shuffle=True, batch_size=batch_size, drop_last=True)\n",
    "\n",
    "model = MTLModel(hidden_dim, 1)\n",
    "if use_cuda:\n",
    "    model = model.cuda()\n",
    "\n",
    "mtl = MultiTaskLossWrapper(num_tasks, model)\n",
    "\n",
    "# https://github.com/keras-team/keras/blob/master/keras/optimizers.py\n",
    "# k.epsilon() = keras.backend.epsilon()\n",
    "optimizer = torch.optim.Adam(mtl.parameters(), lr=lr, eps=1e-07)\n",
    "\n",
    "loss_list = []\n",
    "val_loss_list = []\n",
    "for t in range(nb_epoch):\n",
    "    start = time.time()\n",
    "    cumulative_loss = 0\n",
    "    cumulative_val_loss = 0\n",
    "    \n",
    "    for X, Y in train_data_loader:\n",
    "        if use_cuda:\n",
    "            X, Y = torch.FloatTensor(X).cuda(), torch.FloatTensor(Y).cuda()\n",
    "        \n",
    "        loss, log_vars = mtl(X, Y)\n",
    "        \n",
    "        optimizer.zero_grad()\n",
    "        loss.backward()\n",
    "        optimizer.step()\n",
    "\n",
    "        cumulative_loss += loss.item()\n",
    "        \n",
    "    for X_val, Y_val in val_data_loader:\n",
    "        if use_cuda:\n",
    "            X_val, Y_val = torch.cat(X_val, dim=0).cuda(), torch.cat(Y_val, dim=0).cuda()\n",
    "        val_loss, _ = mtl(X_val, Y_val)\n",
    "        cumulative_val_loss += val_loss.item()\n",
    "    \n",
    "    loss_list.append(cumulative_loss/batch_size)\n",
    "    val_loss_list.append(cumulative_val_loss/batch_size)\n",
    "    \n",
    "    end = time.time()\n",
    "    epoch_time = end - start\n",
    "    writer.add_scalar('Time/train_epoch_time', epoch_time, t)\n",
    "    writer.add_scalar('Loss/train', cumulative_loss/batch_size, t)\n",
    "    writer.add_scalar('Loss/val', cumulative_val_loss/batch_size, t)\n",
    "writer.close()"
   ]
  },
  {
   "cell_type": "code",
   "execution_count": 2,
   "metadata": {
    "collapsed": true
   },
   "outputs": [
    {
     "ename": "NameError",
     "evalue": "name 'pylab' is not defined",
     "output_type": "error",
     "traceback": [
      "\u001b[0;31m---------------------------------------------------------------------------\u001b[0m",
      "\u001b[0;31mNameError\u001b[0m                                 Traceback (most recent call last)",
      "\u001b[0;32m<ipython-input-2-5ad44b21c7a3>\u001b[0m in \u001b[0;36m<module>\u001b[0;34m\u001b[0m\n\u001b[0;32m----> 1\u001b[0;31m \u001b[0mpylab\u001b[0m\u001b[0;34m.\u001b[0m\u001b[0mplot\u001b[0m\u001b[0;34m(\u001b[0m\u001b[0mloss_list\u001b[0m\u001b[0;34m)\u001b[0m\u001b[0;34m\u001b[0m\u001b[0;34m\u001b[0m\u001b[0m\n\u001b[0m\u001b[1;32m      2\u001b[0m \u001b[0mpylab\u001b[0m\u001b[0;34m.\u001b[0m\u001b[0msavefig\u001b[0m\u001b[0;34m(\u001b[0m\u001b[0;34m'train_loss.png'\u001b[0m\u001b[0;34m)\u001b[0m\u001b[0;34m\u001b[0m\u001b[0;34m\u001b[0m\u001b[0m\n\u001b[1;32m      3\u001b[0m \u001b[0mpylab\u001b[0m\u001b[0;34m.\u001b[0m\u001b[0mshow\u001b[0m\u001b[0;34m(\u001b[0m\u001b[0;34m)\u001b[0m\u001b[0;34m\u001b[0m\u001b[0;34m\u001b[0m\u001b[0m\n",
      "\u001b[0;31mNameError\u001b[0m: name 'pylab' is not defined"
     ]
    }
   ],
   "source": [
    "pylab.plot(loss_list)\n",
    "pylab.savefig('train_loss.png')\n",
    "pylab.show()"
   ]
  },
  {
   "cell_type": "code",
   "execution_count": 6,
   "metadata": {},
   "outputs": [
    {
     "data": {
      "image/png": "[encoded data removed]",
      "text/plain": [
       "<Figure size 432x288 with 1 Axes>"
      ]
     },
     "metadata": {
      "needs_background": "light"
     },
     "output_type": "display_data"
    }
   ],
   "source": [
    "pylab.plot(val_loss_list)\n",
    "pylab.savefig('val_loss.png')\n",
    "pylab.show()"
   ]
  },
  {
   "cell_type": "code",
   "execution_count": 7,
   "metadata": {},
   "outputs": [
    {
     "data": {
      "text/plain": [
       "88.97796306610107"
      ]
     },
     "execution_count": 7,
     "metadata": {},
     "output_type": "execute_result"
    }
   ],
   "source": [
    "min(loss_list)"
   ]
  },
  {
   "cell_type": "code",
   "execution_count": 8,
   "metadata": {},
   "outputs": [
    {
     "data": {
      "text/plain": [
       "1965"
      ]
     },
     "execution_count": 8,
     "metadata": {},
     "output_type": "execute_result"
    }
   ],
   "source": [
    "np.argmin(loss_list)"
   ]
  },
  {
   "cell_type": "code",
   "execution_count": 9,
   "metadata": {},
   "outputs": [
    {
     "data": {
      "text/plain": [
       "73.32035293579102"
      ]
     },
     "execution_count": 9,
     "metadata": {},
     "output_type": "execute_result"
    }
   ],
   "source": [
    "min(val_loss_list)"
   ]
  },
  {
   "cell_type": "code",
   "execution_count": 10,
   "metadata": {},
   "outputs": [
    {
     "data": {
      "text/plain": [
       "234"
      ]
     },
     "execution_count": 10,
     "metadata": {},
     "output_type": "execute_result"
    }
   ],
   "source": [
    "np.argmin(val_loss_list)"
   ]
  },
  {
   "cell_type": "code",
   "execution_count": 11,
   "metadata": {},
   "outputs": [
    {
     "name": "stdout",
     "output_type": "stream",
     "text": [
      "[1.272430658340454, 4.370163917541504, 3.9003374576568604, 4.230057239532471, 0.061188384890556335, 2.7572925090789795, 2.117064952850342, 3.601868152618408, 4.145383358001709, 3.9251646995544434, 2.165618658065796, 2.304734945297241, 2.0696866512298584, 3.603445529937744, 3.789348602294922]\n"
     ]
    }
   ],
   "source": [
    "print(log_vars)"
   ]
  },
  {
   "cell_type": "code",
   "execution_count": 12,
   "metadata": {},
   "outputs": [
    {
     "name": "stdout",
     "output_type": "stream",
     "text": [
      "[1.8893168886662768, 8.891377249859119, 7.0298736228671155, 8.289823015521035, 1.0310670041973704, 3.969524263073115, 2.8821382783566682, 6.0553009367647315, 7.946182931806407, 7.117683702249636, 2.9529637559010204, 3.165678702731222, 2.8146652151348976, 6.060078567728462, 6.650382030063029]\n"
     ]
    }
   ],
   "source": [
    "# Found standard deviations (ground truth is 10 and 1):\n",
    "print([math.exp(log_var) ** 0.5 for log_var in log_vars])"
   ]
  },
  {
   "cell_type": "code",
   "execution_count": null,
   "metadata": {},
   "outputs": [],
   "source": []
  }
 ],
 "metadata": {
  "kernelspec": {
   "display_name": "Python 3",
   "language": "python",
   "name": "python3"
  },
  "language_info": {
   "codemirror_mode": {
    "name": "ipython",
    "version": 3
   },
   "file_extension": ".py",
   "mimetype": "text/x-python",
   "name": "python",
   "nbconvert_exporter": "python",
   "pygments_lexer": "ipython3",
   "version": "3.6.4"
  }
 },
 "nbformat": 4,
 "nbformat_minor": 2
}
